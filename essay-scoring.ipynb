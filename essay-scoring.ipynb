{
 "cells": [
  {
   "cell_type": "markdown",
   "metadata": {},
   "source": [
    "# Essay Scoring Challenge"
   ]
  },
  {
   "cell_type": "code",
   "execution_count": 1,
   "metadata": {},
   "outputs": [
    {
     "name": "stdout",
     "output_type": "stream",
     "text": [
      "[nltk_data] Downloading package brown to /Users/gdamien/nltk_data...\n",
      "[nltk_data]   Package brown is already up-to-date!\n"
     ]
    },
    {
     "name": "stderr",
     "output_type": "stream",
     "text": [
      "/Users/gdamien/anaconda/lib/python3.6/site-packages/h5py/__init__.py:34: FutureWarning: Conversion of the second argument of issubdtype from `float` to `np.floating` is deprecated. In future, it will be treated as `np.float64 == np.dtype(float).type`.\n",
      "  from ._conv import register_converters as _register_converters\n",
      "Using TensorFlow backend.\n"
     ]
    },
    {
     "name": "stdout",
     "output_type": "stream",
     "text": [
      "WARNING:tensorflow:From /Users/gdamien/anaconda/lib/python3.6/site-packages/tensorflow/contrib/learn/python/learn/datasets/base.py:198: retry (from tensorflow.contrib.learn.python.learn.datasets.base) is deprecated and will be removed in a future version.\n",
      "Instructions for updating:\n",
      "Use the retry module or similar alternatives.\n"
     ]
    }
   ],
   "source": [
    "#Data Wrangling\n",
    "import pandas as pd\n",
    "import numpy as np\n",
    "import nltk\n",
    "nltk.download('brown')\n",
    "from nltk.corpus import brown\n",
    "import re\n",
    "import string\n",
    "from nltk.stem.porter import *\n",
    "from scipy.sparse import csr_matrix, hstack\n",
    "import spacy\n",
    "\n",
    "#Utils\n",
    "import random\n",
    "import os\n",
    "from six.moves.urllib.request import urlretrieve\n",
    "import zipfile\n",
    "\n",
    "#Machine Learning\n",
    "from sklearn import preprocessing\n",
    "from sklearn.feature_extraction.text import TfidfVectorizer\n",
    "from sklearn.model_selection import train_test_split\n",
    "from sklearn.linear_model import LogisticRegression\n",
    "from sklearn.ensemble import RandomForestClassifier\n",
    "import xgboost as xgb\n",
    "from keras.preprocessing.text import Tokenizer\n",
    "from keras.preprocessing.sequence import pad_sequences\n",
    "from keras.models import Sequential\n",
    "from keras.layers import Dense, LSTM, GRU, Embedding, Dropout, Conv1D, Flatten, Bidirectional\n",
    "from keras import losses\n",
    "from keras.optimizers import SGD, Adam\n",
    "from sklearn.metrics import mean_squared_error, confusion_matrix, classification_report, roc_curve, auc\n",
    "\n",
    "#Data Vizualization\n",
    "import matplotlib.pyplot as plt\n",
    "%matplotlib inline\n",
    "\n",
    "import warnings\n",
    "warnings.filterwarnings('ignore')"
   ]
  },
  {
   "cell_type": "markdown",
   "metadata": {},
   "source": [
    "## Data Analysis"
   ]
  },
  {
   "cell_type": "code",
   "execution_count": 154,
   "metadata": {},
   "outputs": [],
   "source": [
    "df_train = pd.read_csv('training_set_rel3.tsv', sep='\\t', encoding='latin-1', quotechar='\"')"
   ]
  },
  {
   "cell_type": "code",
   "execution_count": 155,
   "metadata": {},
   "outputs": [
    {
     "data": {
      "text/html": [
       "<div>\n",
       "<style>\n",
       "    .dataframe thead tr:only-child th {\n",
       "        text-align: right;\n",
       "    }\n",
       "\n",
       "    .dataframe thead th {\n",
       "        text-align: left;\n",
       "    }\n",
       "\n",
       "    .dataframe tbody tr th {\n",
       "        vertical-align: top;\n",
       "    }\n",
       "</style>\n",
       "<table border=\"1\" class=\"dataframe\">\n",
       "  <thead>\n",
       "    <tr style=\"text-align: right;\">\n",
       "      <th></th>\n",
       "      <th>essay_id</th>\n",
       "      <th>essay_set</th>\n",
       "      <th>essay</th>\n",
       "      <th>rater1_domain1</th>\n",
       "      <th>rater2_domain1</th>\n",
       "      <th>rater3_domain1</th>\n",
       "      <th>domain1_score</th>\n",
       "      <th>rater1_domain2</th>\n",
       "      <th>rater2_domain2</th>\n",
       "      <th>domain2_score</th>\n",
       "      <th>...</th>\n",
       "      <th>rater2_trait3</th>\n",
       "      <th>rater2_trait4</th>\n",
       "      <th>rater2_trait5</th>\n",
       "      <th>rater2_trait6</th>\n",
       "      <th>rater3_trait1</th>\n",
       "      <th>rater3_trait2</th>\n",
       "      <th>rater3_trait3</th>\n",
       "      <th>rater3_trait4</th>\n",
       "      <th>rater3_trait5</th>\n",
       "      <th>rater3_trait6</th>\n",
       "    </tr>\n",
       "  </thead>\n",
       "  <tbody>\n",
       "    <tr>\n",
       "      <th>0</th>\n",
       "      <td>1</td>\n",
       "      <td>1</td>\n",
       "      <td>Dear local newspaper, I think effects computer...</td>\n",
       "      <td>4</td>\n",
       "      <td>4</td>\n",
       "      <td>NaN</td>\n",
       "      <td>8</td>\n",
       "      <td>NaN</td>\n",
       "      <td>NaN</td>\n",
       "      <td>NaN</td>\n",
       "      <td>...</td>\n",
       "      <td>NaN</td>\n",
       "      <td>NaN</td>\n",
       "      <td>NaN</td>\n",
       "      <td>NaN</td>\n",
       "      <td>NaN</td>\n",
       "      <td>NaN</td>\n",
       "      <td>NaN</td>\n",
       "      <td>NaN</td>\n",
       "      <td>NaN</td>\n",
       "      <td>NaN</td>\n",
       "    </tr>\n",
       "    <tr>\n",
       "      <th>1</th>\n",
       "      <td>2</td>\n",
       "      <td>1</td>\n",
       "      <td>Dear @CAPS1 @CAPS2, I believe that using compu...</td>\n",
       "      <td>5</td>\n",
       "      <td>4</td>\n",
       "      <td>NaN</td>\n",
       "      <td>9</td>\n",
       "      <td>NaN</td>\n",
       "      <td>NaN</td>\n",
       "      <td>NaN</td>\n",
       "      <td>...</td>\n",
       "      <td>NaN</td>\n",
       "      <td>NaN</td>\n",
       "      <td>NaN</td>\n",
       "      <td>NaN</td>\n",
       "      <td>NaN</td>\n",
       "      <td>NaN</td>\n",
       "      <td>NaN</td>\n",
       "      <td>NaN</td>\n",
       "      <td>NaN</td>\n",
       "      <td>NaN</td>\n",
       "    </tr>\n",
       "    <tr>\n",
       "      <th>2</th>\n",
       "      <td>3</td>\n",
       "      <td>1</td>\n",
       "      <td>Dear, @CAPS1 @CAPS2 @CAPS3 More and more peopl...</td>\n",
       "      <td>4</td>\n",
       "      <td>3</td>\n",
       "      <td>NaN</td>\n",
       "      <td>7</td>\n",
       "      <td>NaN</td>\n",
       "      <td>NaN</td>\n",
       "      <td>NaN</td>\n",
       "      <td>...</td>\n",
       "      <td>NaN</td>\n",
       "      <td>NaN</td>\n",
       "      <td>NaN</td>\n",
       "      <td>NaN</td>\n",
       "      <td>NaN</td>\n",
       "      <td>NaN</td>\n",
       "      <td>NaN</td>\n",
       "      <td>NaN</td>\n",
       "      <td>NaN</td>\n",
       "      <td>NaN</td>\n",
       "    </tr>\n",
       "    <tr>\n",
       "      <th>3</th>\n",
       "      <td>4</td>\n",
       "      <td>1</td>\n",
       "      <td>Dear Local Newspaper, @CAPS1 I have found that...</td>\n",
       "      <td>5</td>\n",
       "      <td>5</td>\n",
       "      <td>NaN</td>\n",
       "      <td>10</td>\n",
       "      <td>NaN</td>\n",
       "      <td>NaN</td>\n",
       "      <td>NaN</td>\n",
       "      <td>...</td>\n",
       "      <td>NaN</td>\n",
       "      <td>NaN</td>\n",
       "      <td>NaN</td>\n",
       "      <td>NaN</td>\n",
       "      <td>NaN</td>\n",
       "      <td>NaN</td>\n",
       "      <td>NaN</td>\n",
       "      <td>NaN</td>\n",
       "      <td>NaN</td>\n",
       "      <td>NaN</td>\n",
       "    </tr>\n",
       "    <tr>\n",
       "      <th>4</th>\n",
       "      <td>5</td>\n",
       "      <td>1</td>\n",
       "      <td>Dear @LOCATION1, I know having computers has a...</td>\n",
       "      <td>4</td>\n",
       "      <td>4</td>\n",
       "      <td>NaN</td>\n",
       "      <td>8</td>\n",
       "      <td>NaN</td>\n",
       "      <td>NaN</td>\n",
       "      <td>NaN</td>\n",
       "      <td>...</td>\n",
       "      <td>NaN</td>\n",
       "      <td>NaN</td>\n",
       "      <td>NaN</td>\n",
       "      <td>NaN</td>\n",
       "      <td>NaN</td>\n",
       "      <td>NaN</td>\n",
       "      <td>NaN</td>\n",
       "      <td>NaN</td>\n",
       "      <td>NaN</td>\n",
       "      <td>NaN</td>\n",
       "    </tr>\n",
       "  </tbody>\n",
       "</table>\n",
       "<p>5 rows × 28 columns</p>\n",
       "</div>"
      ],
      "text/plain": [
       "   essay_id  essay_set                                              essay  \\\n",
       "0         1          1  Dear local newspaper, I think effects computer...   \n",
       "1         2          1  Dear @CAPS1 @CAPS2, I believe that using compu...   \n",
       "2         3          1  Dear, @CAPS1 @CAPS2 @CAPS3 More and more peopl...   \n",
       "3         4          1  Dear Local Newspaper, @CAPS1 I have found that...   \n",
       "4         5          1  Dear @LOCATION1, I know having computers has a...   \n",
       "\n",
       "   rater1_domain1  rater2_domain1  rater3_domain1  domain1_score  \\\n",
       "0               4               4             NaN              8   \n",
       "1               5               4             NaN              9   \n",
       "2               4               3             NaN              7   \n",
       "3               5               5             NaN             10   \n",
       "4               4               4             NaN              8   \n",
       "\n",
       "   rater1_domain2  rater2_domain2  domain2_score      ...        \\\n",
       "0             NaN             NaN            NaN      ...         \n",
       "1             NaN             NaN            NaN      ...         \n",
       "2             NaN             NaN            NaN      ...         \n",
       "3             NaN             NaN            NaN      ...         \n",
       "4             NaN             NaN            NaN      ...         \n",
       "\n",
       "   rater2_trait3  rater2_trait4  rater2_trait5  rater2_trait6  rater3_trait1  \\\n",
       "0            NaN            NaN            NaN            NaN            NaN   \n",
       "1            NaN            NaN            NaN            NaN            NaN   \n",
       "2            NaN            NaN            NaN            NaN            NaN   \n",
       "3            NaN            NaN            NaN            NaN            NaN   \n",
       "4            NaN            NaN            NaN            NaN            NaN   \n",
       "\n",
       "   rater3_trait2  rater3_trait3  rater3_trait4  rater3_trait5  rater3_trait6  \n",
       "0            NaN            NaN            NaN            NaN            NaN  \n",
       "1            NaN            NaN            NaN            NaN            NaN  \n",
       "2            NaN            NaN            NaN            NaN            NaN  \n",
       "3            NaN            NaN            NaN            NaN            NaN  \n",
       "4            NaN            NaN            NaN            NaN            NaN  \n",
       "\n",
       "[5 rows x 28 columns]"
      ]
     },
     "execution_count": 155,
     "metadata": {},
     "output_type": "execute_result"
    }
   ],
   "source": [
    "df_train.head()"
   ]
  },
  {
   "cell_type": "code",
   "execution_count": 156,
   "metadata": {},
   "outputs": [
    {
     "name": "stdout",
     "output_type": "stream",
     "text": [
      "Number of NaN scores is: 0\n"
     ]
    }
   ],
   "source": [
    "print(\"Number of NaN scores is:\",np.isnan(df_train[\"domain1_score\"]).sum())"
   ]
  },
  {
   "cell_type": "code",
   "execution_count": 157,
   "metadata": {},
   "outputs": [
    {
     "name": "stdout",
     "output_type": "stream",
     "text": [
      "Number of essays: 12976\n",
      "Number of essay sets: 8\n"
     ]
    }
   ],
   "source": [
    "#Number of essay sets\n",
    "print(\"Number of essays:\", len(df_train))\n",
    "print(\"Number of essay sets:\", len(set(df_train['essay_set'].tolist())))"
   ]
  },
  {
   "cell_type": "code",
   "execution_count": 158,
   "metadata": {},
   "outputs": [
    {
     "data": {
      "image/png": "[encoded data removed]",
      "text/plain": [
       "<matplotlib.figure.Figure at 0x1c25832898>"
      ]
     },
     "metadata": {},
     "output_type": "display_data"
    }
   ],
   "source": [
    "set_ids = df_train[\"essay_set\"].value_counts().keys().tolist()\n",
    "essays_per_set = df_train[\"essay_set\"].value_counts().values\n",
    "\n",
    "plt.figure(figsize=(10,5))\n",
    "plt.bar(set_ids, essays_per_set)\n",
    "plt.title(\"Number of essays per set.\")\n",
    "plt.show()"
   ]
  },
  {
   "cell_type": "code",
   "execution_count": 159,
   "metadata": {},
   "outputs": [
    {
     "data": {
      "image/png": "[encoded data removed]",
      "text/plain": [
       "<matplotlib.figure.Figure at 0x1c2643b160>"
      ]
     },
     "metadata": {},
     "output_type": "display_data"
    }
   ],
   "source": [
    "plt.figure(figsize=(20,10))\n",
    "\n",
    "for set_id in range(1, 7):\n",
    "    \n",
    "    plt.subplot(2, 3, set_id)\n",
    "    \n",
    "    grades_ids = df_train[\"domain1_score\"][df_train[\"essay_set\"]==set_id].value_counts().keys().tolist()\n",
    "    grades_values = df_train[\"domain1_score\"][df_train[\"essay_set\"]==set_id].value_counts().values\n",
    "\n",
    "    plt.bar(grades_ids, grades_values)\n",
    "    plt.title(\"Distribution of grades of essay set {}.\".format(set_id))"
   ]
  },
  {
   "cell_type": "code",
   "execution_count": 160,
   "metadata": {},
   "outputs": [
    {
     "data": {
      "image/png": "[encoded data removed]",
      "text/plain": [
       "<matplotlib.figure.Figure at 0x1c25e8dc50>"
      ]
     },
     "metadata": {},
     "output_type": "display_data"
    }
   ],
   "source": [
    "plt.figure(figsize=(15,5))\n",
    "\n",
    "for set_id in range(1, 3):\n",
    "    \n",
    "    plt.subplot(1, 2, set_id)\n",
    "    set_id +=6\n",
    "    \n",
    "    grades_ids = df_train[\"domain1_score\"][df_train[\"essay_set\"]==set_id].value_counts().keys().tolist()\n",
    "    grades_values = df_train[\"domain1_score\"][df_train[\"essay_set\"]==set_id].value_counts().values\n",
    "\n",
    "    plt.bar(grades_ids, grades_values)\n",
    "    plt.title(\"Distribution of grades of essay set {}.\".format(set_id))"
   ]
  },
  {
   "cell_type": "code",
   "execution_count": 161,
   "metadata": {},
   "outputs": [
    {
     "name": "stdout",
     "output_type": "stream",
     "text": [
      "Essay scored 0:\n",
      "\n",
      "The affects of the cyclist is if it does not change. it cut hurt a lot of people feeling because they @CAPS1 dont care about the cyclist. Im one of them people who does not care about it cause it does not affect me or anyone I know. It is a big deal to write people, some of them @CAPS1 blow stuff up. They talking on tiv and on the radio making all this stuff they say is made up. I dont believe to I see it. That @CAPS1 not for black people because it has not did anything to us. We really dont care about the affects of the cyclist.\n",
      "\n",
      "Essay scored 10:\n",
      "\n",
      "One day, a few years ago, I woke up and my mom said we were going  to my grandmas house. So started to get ready. After I was done getting dressed I looked on.  My dresser and grabbed my @MONEY2 @MONEY3 that I was saving up to buy something just incase we went to the store When we got there I saw my cousins dad @CAPS1 walking a puppy. I walked up to him and asked about the dog, he said it was his brothers dog and he was selling it. My mom said I could get a dog so I asked him how much did he coast. @CAPS1 said @MONEY1. I got really excited because I had @MONEY2 and could get @MONEY3 from my granding. So I called my mom but she was busy somewhere else but she told me that she wanted to see the dog before I buy him. So @CAPS1 waited their for hours but my mom took forever. Then finally I got impatience and bought him. But my wow wasnt mad because she ended up liking him\n",
      "\n",
      "--> The difference in writing style is striking: the latter extract is more grammatically correct, uses conjonction words (but, then, etc.), and have longer sentences.\n"
     ]
    }
   ],
   "source": [
    "#Sample essays\n",
    "print(\"Essay scored 0:\")\n",
    "print()\n",
    "print(df_train[\"essay\"][df_train[\"rater1_domain1\"]==0].tolist()[0])\n",
    "print()\n",
    "print(\"Essay scored 10:\")\n",
    "print()\n",
    "print(df_train[\"essay\"][df_train[\"rater1_domain1\"]==10].tolist()[0])\n",
    "print()\n",
    "print(\"--> The difference in writing style is striking: the latter extract is more grammatically correct, \\\n",
    "uses conjonction words (but, then, etc.), and have longer sentences.\")"
   ]
  },
  {
   "cell_type": "markdown",
   "metadata": {},
   "source": [
    "## Data Preprocessing"
   ]
  },
  {
   "cell_type": "code",
   "execution_count": 162,
   "metadata": {},
   "outputs": [],
   "source": [
    "#We take a subset of the training dataset:\n",
    "df_train = df_train[df_train[\"essay_set\"]==5]\n",
    "df_train.reset_index(inplace=True)"
   ]
  },
  {
   "cell_type": "code",
   "execution_count": 163,
   "metadata": {},
   "outputs": [],
   "source": [
    "set_words = set(brown.words())\n",
    "punctuation = set(string.punctuation)\n",
    "\n",
    "#Number of words\n",
    "def count_words(text):\n",
    "    text = ''.join([w for w in text.lower() if w not in punctuation])\n",
    "    tokens = nltk.word_tokenize(text)\n",
    "    count = len(tokens)\n",
    "    return count\n",
    "\n",
    "df_train[\"nb_words\"] = df_train[\"essay\"].apply(count_words)\n",
    "\n",
    "#Number of sentences\n",
    "def count_sentences(text):\n",
    "    sents = nltk.sent_tokenize(text)\n",
    "    count = len(sents)\n",
    "    return count\n",
    "\n",
    "df_train[\"nb_sents\"] = df_train[\"essay\"].apply(count_sentences)\n",
    "\n",
    "#Average sentence length\n",
    "def average_sentence_length(text):\n",
    "    return np.mean([count_words(s) for s in nltk.sent_tokenize(text)])\n",
    "\n",
    "df_train[\"avg_sent_length\"] = df_train[\"essay\"].apply(average_sentence_length)\n",
    "\n",
    "#Number of distinct words\n",
    "def unique_words_ratio(text):\n",
    "    text = ''.join([w for w in text.lower() if w not in punctuation])\n",
    "    tokens = nltk.word_tokenize(text)\n",
    "    count = len(set(tokens))\n",
    "    return count / len(tokens)\n",
    "\n",
    "df_train[\"unique_words_ratio\"] = df_train[\"essay\"].apply(unique_words_ratio)\n",
    "\n",
    "#Number of verbs\n",
    "\n",
    "#Number of nouns\n",
    "\n",
    "#Number of prepositions\n",
    "\n",
    "#Number of spelling mistakes\n",
    "def spelling_mistakes_ratio(text):\n",
    "    text = ''.join([w for w in text.lower() if w not in punctuation])\n",
    "    tokens = nltk.word_tokenize(text)\n",
    "    spelling_mistakes = len([word for word in tokens if word not in set_words and '@' not in word])\n",
    "    return spelling_mistakes / len(text.split())\n",
    "\n",
    "df_train[\"spelling_mistakes_ratio\"] = df_train[\"essay\"].apply(spelling_mistakes_ratio)"
   ]
  },
  {
   "cell_type": "code",
   "execution_count": 164,
   "metadata": {},
   "outputs": [
    {
     "data": {
      "text/html": [
       "<div>\n",
       "<style>\n",
       "    .dataframe thead tr:only-child th {\n",
       "        text-align: right;\n",
       "    }\n",
       "\n",
       "    .dataframe thead th {\n",
       "        text-align: left;\n",
       "    }\n",
       "\n",
       "    .dataframe tbody tr th {\n",
       "        vertical-align: top;\n",
       "    }\n",
       "</style>\n",
       "<table border=\"1\" class=\"dataframe\">\n",
       "  <thead>\n",
       "    <tr style=\"text-align: right;\">\n",
       "      <th></th>\n",
       "      <th>index</th>\n",
       "      <th>essay_id</th>\n",
       "      <th>essay_set</th>\n",
       "      <th>essay</th>\n",
       "      <th>rater1_domain1</th>\n",
       "      <th>rater2_domain1</th>\n",
       "      <th>rater3_domain1</th>\n",
       "      <th>domain1_score</th>\n",
       "      <th>rater1_domain2</th>\n",
       "      <th>rater2_domain2</th>\n",
       "      <th>...</th>\n",
       "      <th>rater3_trait2</th>\n",
       "      <th>rater3_trait3</th>\n",
       "      <th>rater3_trait4</th>\n",
       "      <th>rater3_trait5</th>\n",
       "      <th>rater3_trait6</th>\n",
       "      <th>nb_words</th>\n",
       "      <th>nb_sents</th>\n",
       "      <th>avg_sent_length</th>\n",
       "      <th>unique_words_ratio</th>\n",
       "      <th>spelling_mistakes_ratio</th>\n",
       "    </tr>\n",
       "  </thead>\n",
       "  <tbody>\n",
       "    <tr>\n",
       "      <th>0</th>\n",
       "      <td>7079</td>\n",
       "      <td>11827</td>\n",
       "      <td>5</td>\n",
       "      <td>In this memoir of Narciso Rodriguez, @PERSON3'...</td>\n",
       "      <td>2</td>\n",
       "      <td>2</td>\n",
       "      <td>NaN</td>\n",
       "      <td>2</td>\n",
       "      <td>NaN</td>\n",
       "      <td>NaN</td>\n",
       "      <td>...</td>\n",
       "      <td>NaN</td>\n",
       "      <td>NaN</td>\n",
       "      <td>NaN</td>\n",
       "      <td>NaN</td>\n",
       "      <td>NaN</td>\n",
       "      <td>132</td>\n",
       "      <td>8</td>\n",
       "      <td>16.500000</td>\n",
       "      <td>0.621212</td>\n",
       "      <td>0.098485</td>\n",
       "    </tr>\n",
       "    <tr>\n",
       "      <th>1</th>\n",
       "      <td>7080</td>\n",
       "      <td>11828</td>\n",
       "      <td>5</td>\n",
       "      <td>Throughout the excerpt from Home the Blueprint...</td>\n",
       "      <td>2</td>\n",
       "      <td>2</td>\n",
       "      <td>NaN</td>\n",
       "      <td>2</td>\n",
       "      <td>NaN</td>\n",
       "      <td>NaN</td>\n",
       "      <td>...</td>\n",
       "      <td>NaN</td>\n",
       "      <td>NaN</td>\n",
       "      <td>NaN</td>\n",
       "      <td>NaN</td>\n",
       "      <td>NaN</td>\n",
       "      <td>167</td>\n",
       "      <td>7</td>\n",
       "      <td>23.857143</td>\n",
       "      <td>0.610778</td>\n",
       "      <td>0.041916</td>\n",
       "    </tr>\n",
       "    <tr>\n",
       "      <th>2</th>\n",
       "      <td>7081</td>\n",
       "      <td>11829</td>\n",
       "      <td>5</td>\n",
       "      <td>The mood the author created in the memoir is l...</td>\n",
       "      <td>3</td>\n",
       "      <td>3</td>\n",
       "      <td>NaN</td>\n",
       "      <td>3</td>\n",
       "      <td>NaN</td>\n",
       "      <td>NaN</td>\n",
       "      <td>...</td>\n",
       "      <td>NaN</td>\n",
       "      <td>NaN</td>\n",
       "      <td>NaN</td>\n",
       "      <td>NaN</td>\n",
       "      <td>NaN</td>\n",
       "      <td>109</td>\n",
       "      <td>6</td>\n",
       "      <td>18.166667</td>\n",
       "      <td>0.724771</td>\n",
       "      <td>0.082569</td>\n",
       "    </tr>\n",
       "    <tr>\n",
       "      <th>3</th>\n",
       "      <td>7082</td>\n",
       "      <td>11830</td>\n",
       "      <td>5</td>\n",
       "      <td>The mood created by the author is showing how ...</td>\n",
       "      <td>1</td>\n",
       "      <td>0</td>\n",
       "      <td>NaN</td>\n",
       "      <td>1</td>\n",
       "      <td>NaN</td>\n",
       "      <td>NaN</td>\n",
       "      <td>...</td>\n",
       "      <td>NaN</td>\n",
       "      <td>NaN</td>\n",
       "      <td>NaN</td>\n",
       "      <td>NaN</td>\n",
       "      <td>NaN</td>\n",
       "      <td>71</td>\n",
       "      <td>3</td>\n",
       "      <td>23.666667</td>\n",
       "      <td>0.591549</td>\n",
       "      <td>0.169014</td>\n",
       "    </tr>\n",
       "    <tr>\n",
       "      <th>4</th>\n",
       "      <td>7083</td>\n",
       "      <td>11831</td>\n",
       "      <td>5</td>\n",
       "      <td>The mood created in the memoir is happiness an...</td>\n",
       "      <td>2</td>\n",
       "      <td>3</td>\n",
       "      <td>NaN</td>\n",
       "      <td>3</td>\n",
       "      <td>NaN</td>\n",
       "      <td>NaN</td>\n",
       "      <td>...</td>\n",
       "      <td>NaN</td>\n",
       "      <td>NaN</td>\n",
       "      <td>NaN</td>\n",
       "      <td>NaN</td>\n",
       "      <td>NaN</td>\n",
       "      <td>127</td>\n",
       "      <td>8</td>\n",
       "      <td>15.875000</td>\n",
       "      <td>0.535433</td>\n",
       "      <td>0.055118</td>\n",
       "    </tr>\n",
       "  </tbody>\n",
       "</table>\n",
       "<p>5 rows × 34 columns</p>\n",
       "</div>"
      ],
      "text/plain": [
       "   index  essay_id  essay_set  \\\n",
       "0   7079     11827          5   \n",
       "1   7080     11828          5   \n",
       "2   7081     11829          5   \n",
       "3   7082     11830          5   \n",
       "4   7083     11831          5   \n",
       "\n",
       "                                               essay  rater1_domain1  \\\n",
       "0  In this memoir of Narciso Rodriguez, @PERSON3'...               2   \n",
       "1  Throughout the excerpt from Home the Blueprint...               2   \n",
       "2  The mood the author created in the memoir is l...               3   \n",
       "3  The mood created by the author is showing how ...               1   \n",
       "4  The mood created in the memoir is happiness an...               2   \n",
       "\n",
       "   rater2_domain1  rater3_domain1  domain1_score  rater1_domain2  \\\n",
       "0               2             NaN              2             NaN   \n",
       "1               2             NaN              2             NaN   \n",
       "2               3             NaN              3             NaN   \n",
       "3               0             NaN              1             NaN   \n",
       "4               3             NaN              3             NaN   \n",
       "\n",
       "   rater2_domain2           ...             rater3_trait2  rater3_trait3  \\\n",
       "0             NaN           ...                       NaN            NaN   \n",
       "1             NaN           ...                       NaN            NaN   \n",
       "2             NaN           ...                       NaN            NaN   \n",
       "3             NaN           ...                       NaN            NaN   \n",
       "4             NaN           ...                       NaN            NaN   \n",
       "\n",
       "   rater3_trait4  rater3_trait5  rater3_trait6  nb_words  nb_sents  \\\n",
       "0            NaN            NaN            NaN       132         8   \n",
       "1            NaN            NaN            NaN       167         7   \n",
       "2            NaN            NaN            NaN       109         6   \n",
       "3            NaN            NaN            NaN        71         3   \n",
       "4            NaN            NaN            NaN       127         8   \n",
       "\n",
       "   avg_sent_length  unique_words_ratio  spelling_mistakes_ratio  \n",
       "0        16.500000            0.621212                 0.098485  \n",
       "1        23.857143            0.610778                 0.041916  \n",
       "2        18.166667            0.724771                 0.082569  \n",
       "3        23.666667            0.591549                 0.169014  \n",
       "4        15.875000            0.535433                 0.055118  \n",
       "\n",
       "[5 rows x 34 columns]"
      ]
     },
     "execution_count": 164,
     "metadata": {},
     "output_type": "execute_result"
    }
   ],
   "source": [
    "df_train.head()"
   ]
  },
  {
   "cell_type": "code",
   "execution_count": 165,
   "metadata": {},
   "outputs": [],
   "source": [
    "def clean_text_regex(text):\n",
    "\n",
    "    text = re.sub(r\"[^A-Za-z0-9(),!?\\'\\`]\", \" \", text)\n",
    "    text = re.sub(r\"\\'s\", \" \\'s\", text)\n",
    "    text = re.sub(r\"\\'ve\", \" \\'ve\", text)\n",
    "    text = re.sub(r\"n\\'t\", \" n\\'t\", text)\n",
    "    text = re.sub(r\"\\'re\", \" \\'re\", text)\n",
    "    text = re.sub(r\"\\'d\", \" \\'d\", text)\n",
    "    text = re.sub(r\"\\'ll\", \" \\'ll\", text)\n",
    "    text = re.sub(r\",\", \" , \", text)\n",
    "    text = re.sub(r\"!\", \" ! \", text)\n",
    "    text = re.sub(r\"\\(\", \" ( \", text)\n",
    "    text = re.sub(r\"\\)\", \" ) \", text)\n",
    "    text = re.sub(r\"\\?\", \" ? \", text)\n",
    "    text = re.sub(r\"\\s{2,}\", \" \", text)\n",
    "\n",
    "    punctuation = set(string.punctuation)\n",
    "    text = ''.join([w for w in text.lower() if w not in punctuation])\n",
    "\n",
    "    # Stemming\n",
    "    stemmer = PorterStemmer()\n",
    "    text = [stemmer.stem(w) for w in text.split()]\n",
    "\n",
    "    # Covenrt list of words to one string\n",
    "    text = ' '.join(w for w in text)\n",
    "\n",
    "    return text"
   ]
  },
  {
   "cell_type": "code",
   "execution_count": 166,
   "metadata": {},
   "outputs": [
    {
     "name": "stdout",
     "output_type": "stream",
     "text": [
      "-------------\n",
      "Initial text:\n",
      "-------------\n",
      "\n",
      "The mood created by the author is showing how cuban's lived and about Their cultra and how they lived and some people from other cultra's could be diffrent and don't @CAPS1 cared about their cultra's and some people do care about their cultra like narciso parents. that is what the author is trying to say. and that some people should respect their cultra and not @CAPS2 To be a different cultra.\n",
      "\n",
      "-------------\n",
      "Cleaned text:\n",
      "-------------\n",
      "\n",
      "the mood creat by the author is show how cuban s live and about their cultra and how they live and some peopl from other cultra s could be diffrent and do nt caps1 care about their cultra s and some peopl do care about their cultra like narciso parent that is what the author is tri to say and that some peopl should respect their cultra and not caps2 to be a differ cultra\n"
     ]
    }
   ],
   "source": [
    "raw_text = df_train[\"essay\"][df_train[\"rater1_domain1\"]==1].tolist()[0]\n",
    "print(\"-------------\")\n",
    "print(\"Initial text:\")\n",
    "print(\"-------------\")\n",
    "print()\n",
    "print(raw_text)\n",
    "print()\n",
    "\n",
    "\n",
    "clean_text = clean_text_regex(raw_text)\n",
    "print(\"-------------\")\n",
    "print(\"Cleaned text:\")\n",
    "print(\"-------------\")\n",
    "print()\n",
    "print(clean_text)"
   ]
  },
  {
   "cell_type": "code",
   "execution_count": 167,
   "metadata": {},
   "outputs": [],
   "source": [
    "#Clean essays\n",
    "df_train['clean_essay'] = df_train['essay'].apply(clean_text_regex)\n",
    "\n",
    "#Create TD-IDF vectors\n",
    "tf = TfidfVectorizer(min_df=2, ngram_range=(1,3))\n",
    "train_tfidf_matrix = tf.fit_transform(df_train['clean_essay'])"
   ]
  },
  {
   "cell_type": "code",
   "execution_count": 168,
   "metadata": {},
   "outputs": [],
   "source": [
    "df_labels = df_train[\"domain1_score\"]\n",
    "#df_variables = hstack([csr_matrix(df_train[[\"nb_words\", \"nb_sents\", \"avg_sent_length\", \"unique_words_ratio\", \"spelling_mistakes_ratio\"]].values), train_tfidf_matrix])\n",
    "df_variables = df_train[[\"nb_words\", \"nb_sents\", \"avg_sent_length\", \"unique_words_ratio\", \"spelling_mistakes_ratio\"]].values"
   ]
  },
  {
   "cell_type": "markdown",
   "metadata": {},
   "source": [
    "## Model Construction"
   ]
  },
  {
   "cell_type": "code",
   "execution_count": 169,
   "metadata": {},
   "outputs": [
    {
     "name": "stdout",
     "output_type": "stream",
     "text": [
      "(1444, 5) (361, 5) (1444,) (361,)\n"
     ]
    }
   ],
   "source": [
    "#Create training and test set\n",
    "X_train, X_test, y_train, y_test = train_test_split(df_variables, df_labels, test_size=0.2, random_state=42)\n",
    "print(X_train.shape, X_test.shape, y_train.shape, y_test.shape)"
   ]
  },
  {
   "cell_type": "markdown",
   "metadata": {},
   "source": [
    "### 1. Logistic Regression"
   ]
  },
  {
   "cell_type": "code",
   "execution_count": 170,
   "metadata": {},
   "outputs": [],
   "source": [
    "#Logistic Regression\n",
    "lr = LogisticRegression(C=1, random_state = 42, class_weight = 'balanced')\n",
    "lr.fit(X_train, y_train)\n",
    "\n",
    "predictions = lr.predict(X_test)"
   ]
  },
  {
   "cell_type": "code",
   "execution_count": 171,
   "metadata": {},
   "outputs": [
    {
     "name": "stdout",
     "output_type": "stream",
     "text": [
      "\n",
      "Confusion matrix\n",
      " [[ 0  0  0  0  0]\n",
      " [ 6 31 26  0  0]\n",
      " [ 1 15 79 19  0]\n",
      " [ 0  2 25 71 12]\n",
      " [ 0  0  5 35 34]]\n",
      "\n",
      "             precision    recall  f1-score   support\n",
      "\n",
      "          0       0.00      0.00      0.00         0\n",
      "          1       0.65      0.49      0.56        63\n",
      "          2       0.59      0.69      0.63       114\n",
      "          3       0.57      0.65      0.60       110\n",
      "          4       0.74      0.46      0.57        74\n",
      "\n",
      "avg / total       0.62      0.60      0.60       361\n",
      "\n"
     ]
    }
   ],
   "source": [
    "print('\\nConfusion matrix\\n', confusion_matrix(predictions, y_test))\n",
    "print()\n",
    "print(classification_report(predictions, y_test))"
   ]
  },
  {
   "cell_type": "markdown",
   "metadata": {},
   "source": [
    "### 2. Random Forest"
   ]
  },
  {
   "cell_type": "code",
   "execution_count": 172,
   "metadata": {},
   "outputs": [],
   "source": [
    "rf = RandomForestClassifier(n_estimators=100, max_depth=10, random_state=0)\n",
    "rf.fit(X_train, y_train)\n",
    "\n",
    "predictions = rf.predict(X_test)"
   ]
  },
  {
   "cell_type": "code",
   "execution_count": 173,
   "metadata": {},
   "outputs": [
    {
     "name": "stdout",
     "output_type": "stream",
     "text": [
      "\n",
      "Confusion matrix\n",
      " [[ 0  1  0  0  0]\n",
      " [ 6 24 15  0  0]\n",
      " [ 1 20 94 21  1]\n",
      " [ 0  2 22 81 15]\n",
      " [ 0  1  4 23 30]]\n",
      "\n",
      "             precision    recall  f1-score   support\n",
      "\n",
      "          0       0.00      0.00      0.00         1\n",
      "          1       0.50      0.53      0.52        45\n",
      "          2       0.70      0.69      0.69       137\n",
      "          3       0.65      0.68      0.66       120\n",
      "          4       0.65      0.52      0.58        58\n",
      "\n",
      "avg / total       0.65      0.63      0.64       361\n",
      "\n"
     ]
    }
   ],
   "source": [
    "print('\\nConfusion matrix\\n', confusion_matrix(predictions, y_test))\n",
    "print()\n",
    "print(classification_report(predictions, y_test))"
   ]
  },
  {
   "cell_type": "markdown",
   "metadata": {},
   "source": [
    "### 3. XGBoost"
   ]
  },
  {
   "cell_type": "code",
   "execution_count": 174,
   "metadata": {},
   "outputs": [],
   "source": [
    "xgb_model = xgb.XGBClassifier(n_estimators=100, max_depth=8, learning_rate=0.1, subsample=0.5)\n",
    "\n",
    "xgb_model.fit(X_train, y_train)\n",
    "\n",
    "predictions = xgb_model.predict(X_test)"
   ]
  },
  {
   "cell_type": "code",
   "execution_count": 175,
   "metadata": {},
   "outputs": [
    {
     "name": "stdout",
     "output_type": "stream",
     "text": [
      "\n",
      "Confusion matrix\n",
      " [[ 0  2  0  0  0]\n",
      " [ 7 21 17  0  0]\n",
      " [ 0 22 89 22  1]\n",
      " [ 0  2 25 81 21]\n",
      " [ 0  1  4 22 24]]\n",
      "\n",
      "             precision    recall  f1-score   support\n",
      "\n",
      "          0       0.00      0.00      0.00         2\n",
      "          1       0.44      0.47      0.45        45\n",
      "          2       0.66      0.66      0.66       134\n",
      "          3       0.65      0.63      0.64       129\n",
      "          4       0.52      0.47      0.49        51\n",
      "\n",
      "avg / total       0.60      0.60      0.60       361\n",
      "\n"
     ]
    }
   ],
   "source": [
    "print('\\nConfusion matrix\\n', confusion_matrix(predictions, y_test))\n",
    "print()\n",
    "print(classification_report(predictions, y_test))"
   ]
  },
  {
   "cell_type": "markdown",
   "metadata": {},
   "source": [
    "### 4. Averaging the three models"
   ]
  },
  {
   "cell_type": "code",
   "execution_count": 176,
   "metadata": {},
   "outputs": [],
   "source": [
    "#Logistic Regression\n",
    "lr = LogisticRegression(C=1, random_state = 42, class_weight = 'balanced')\n",
    "lr.fit(X_train, y_train)\n",
    "\n",
    "predictions_lr = lr.predict_proba(X_test)\n",
    "\n",
    "#Random Forest\n",
    "rf = RandomForestClassifier(n_estimators=1000, max_depth=10, random_state=0)\n",
    "rf.fit(X_train, y_train)\n",
    "\n",
    "predictions_rf = rf.predict_proba(X_test)\n",
    "\n",
    "#XGBoost\n",
    "xgb_model = xgb.XGBClassifier(n_estimators=100, max_depth=8, learning_rate=0.1, subsample=0.5)\n",
    "\n",
    "xgb_model.fit(X_train, y_train)\n",
    "\n",
    "predictions_xgb = xgb_model.predict_proba(X_test)\n",
    "\n",
    "#Average of predictions\n",
    "random.seed(9001)\n",
    "rd = np.random.random(3)\n",
    "rd /= 3\n",
    "alpha, beta, gamma = rd[0], rd[1], rd[2]\n",
    "predictions = np.argmax((alpha*predictions_rf + beta*predictions_lr + gamma*predictions_xgb)/3, axis=1)"
   ]
  },
  {
   "cell_type": "code",
   "execution_count": 177,
   "metadata": {},
   "outputs": [
    {
     "name": "stdout",
     "output_type": "stream",
     "text": [
      "\n",
      "Confusion matrix\n",
      " [[ 0  2  0  0  0]\n",
      " [ 7 23 18  0  0]\n",
      " [ 0 20 86 23  0]\n",
      " [ 0  2 26 77 20]\n",
      " [ 0  1  5 25 26]]\n",
      "\n",
      "             precision    recall  f1-score   support\n",
      "\n",
      "          0       0.00      0.00      0.00         2\n",
      "          1       0.48      0.48      0.48        48\n",
      "          2       0.64      0.67      0.65       129\n",
      "          3       0.62      0.62      0.62       125\n",
      "          4       0.57      0.46      0.50        57\n",
      "\n",
      "avg / total       0.59      0.59      0.59       361\n",
      "\n"
     ]
    }
   ],
   "source": [
    "print('\\nConfusion matrix\\n', confusion_matrix(predictions, y_test))\n",
    "print()\n",
    "print(classification_report(predictions, y_test))"
   ]
  },
  {
   "cell_type": "code",
   "execution_count": 178,
   "metadata": {},
   "outputs": [
    {
     "data": {
      "text/plain": [
       "'58.730000000000004%'"
      ]
     },
     "execution_count": 178,
     "metadata": {},
     "output_type": "execute_result"
    }
   ],
   "source": [
    "str(100*np.round(sum([np.abs(p-s)==0 for p,s in zip(predictions, y_test)])/len(predictions), 4)) + \"%\""
   ]
  },
  {
   "cell_type": "markdown",
   "metadata": {},
   "source": [
    "### 5. Use of Glove word embeddings"
   ]
  },
  {
   "cell_type": "code",
   "execution_count": 179,
   "metadata": {},
   "outputs": [],
   "source": [
    "def maybe_download(filename):\n",
    "    \"\"\"Download a file if not present, and make sure it's the right size.\"\"\"\n",
    "    if not os.path.exists(filename):\n",
    "        filename, _ = urlretrieve(url + filename, filename)\n",
    "    return filename"
   ]
  },
  {
   "cell_type": "code",
   "execution_count": 180,
   "metadata": {},
   "outputs": [
    {
     "name": "stdout",
     "output_type": "stream",
     "text": [
      "Found 400001 word vectors.\n"
     ]
    }
   ],
   "source": [
    "url = 'http://nlp.stanford.edu/data/wordvecs/'\n",
    "\n",
    "filename = maybe_download('glove.6B.zip')\n",
    "\n",
    "if not os.path.exists('glove'):\n",
    "    zip_ref = zipfile.ZipFile(filename, 'r')\n",
    "    zip_ref.extractall('glove')\n",
    "    zip_ref.close()\n",
    "    \n",
    "embeddings_index = {}\n",
    "f = open(os.path.join('glove','glove.6B.300d.txt'))\n",
    "for line in f:\n",
    "    values = line.split()\n",
    "    word = values[0]\n",
    "    coefs = np.asarray(values[1:], dtype ='float32')\n",
    "    embeddings_index[word] = coefs\n",
    "f.close()\n",
    "\n",
    "print('Found %s word vectors.' % len(embeddings_index))"
   ]
  },
  {
   "cell_type": "code",
   "execution_count": 181,
   "metadata": {},
   "outputs": [],
   "source": [
    "train_glove_bow = np.zeros((len(df_train), 300))\n",
    "for index in range(len(df_train)):\n",
    "    essay_vector = np.zeros((1, 300))\n",
    "    for word in df_train[\"essay\"][index].split():\n",
    "        embedding_vector = embeddings_index.get(word)\n",
    "        if embedding_vector is not None:\n",
    "            essay_vector += embedding_vector\n",
    "    train_glove_bow[index, :] = essay_vector"
   ]
  },
  {
   "cell_type": "code",
   "execution_count": 182,
   "metadata": {},
   "outputs": [],
   "source": [
    "df_variables = np.hstack([df_train[[\"nb_words\", \"nb_sents\", \"avg_sent_length\", \"unique_words_ratio\", \"spelling_mistakes_ratio\"]].values, train_glove_bow])"
   ]
  },
  {
   "cell_type": "code",
   "execution_count": 183,
   "metadata": {},
   "outputs": [
    {
     "name": "stdout",
     "output_type": "stream",
     "text": [
      "(1624, 300) (181, 300) (1624,) (181,)\n"
     ]
    }
   ],
   "source": [
    "#Create training and test set\n",
    "X_train, X_test, y_train, y_test = train_test_split(train_glove_bow, df_labels, test_size=0.1, random_state=42)\n",
    "print(X_train.shape, X_test.shape, y_train.shape, y_test.shape)"
   ]
  },
  {
   "cell_type": "code",
   "execution_count": 184,
   "metadata": {},
   "outputs": [],
   "source": [
    "#Logistic Regression\n",
    "lr = LogisticRegression(C=1, random_state = 42, class_weight = 'balanced')\n",
    "lr.fit(X_train, y_train)\n",
    "\n",
    "predictions = lr.predict(X_test)"
   ]
  },
  {
   "cell_type": "code",
   "execution_count": 185,
   "metadata": {},
   "outputs": [
    {
     "name": "stdout",
     "output_type": "stream",
     "text": [
      "\n",
      "Confusion matrix\n",
      " [[ 0  2  0  0  0]\n",
      " [ 3  9 18  2  0]\n",
      " [ 0 10 32 14  1]\n",
      " [ 0  1 12 34 12]\n",
      " [ 0  0  3 16 12]]\n",
      "\n",
      "             precision    recall  f1-score   support\n",
      "\n",
      "          0       0.00      0.00      0.00         2\n",
      "          1       0.41      0.28      0.33        32\n",
      "          2       0.49      0.56      0.52        57\n",
      "          3       0.52      0.58      0.54        59\n",
      "          4       0.48      0.39      0.43        31\n",
      "\n",
      "avg / total       0.48      0.48      0.47       181\n",
      "\n"
     ]
    }
   ],
   "source": [
    "print('\\nConfusion matrix\\n', confusion_matrix(predictions, y_test))\n",
    "print()\n",
    "print(classification_report(predictions, y_test))"
   ]
  },
  {
   "cell_type": "markdown",
   "metadata": {},
   "source": [
    "### 6. Fully Connected Artificial Neural Network on Bag of Words (average) using Glove word embeddings"
   ]
  },
  {
   "cell_type": "code",
   "execution_count": 186,
   "metadata": {},
   "outputs": [],
   "source": [
    "def create_doc2vec(df):\n",
    "    doc2vec = np.zeros((len(df_train), 300))\n",
    "    for index in range(len(df_train)):\n",
    "        essay_vector = np.zeros((1, 300))\n",
    "        for word in df[\"essay\"][index].split():\n",
    "            embedding_vector = embeddings_index.get(word)\n",
    "            if embedding_vector is not None:\n",
    "                essay_vector += embedding_vector\n",
    "        doc2vec[index, :] = essay_vector\n",
    "    return doc2vec\n",
    "\n",
    "train = create_doc2vec(df_train)\n",
    "le = preprocessing.LabelEncoder()\n",
    "labels = le.fit_transform(df_train[\"domain1_score\"].values)"
   ]
  },
  {
   "cell_type": "code",
   "execution_count": 187,
   "metadata": {},
   "outputs": [
    {
     "name": "stdout",
     "output_type": "stream",
     "text": [
      "(1624, 300) (181, 300) (1624,) (181,)\n"
     ]
    }
   ],
   "source": [
    "#Create training and test set\n",
    "X_train, X_test, y_train, y_test = train_test_split(train, labels, test_size=0.1, random_state=42)\n",
    "print(X_train.shape, X_test.shape, y_train.shape, y_test.shape)"
   ]
  },
  {
   "cell_type": "code",
   "execution_count": 188,
   "metadata": {},
   "outputs": [],
   "source": [
    "from keras.utils import np_utils\n",
    "\n",
    "y_train = np_utils.to_categorical(y_train, len(set(labels.tolist())))"
   ]
  },
  {
   "cell_type": "code",
   "execution_count": 190,
   "metadata": {},
   "outputs": [
    {
     "name": "stdout",
     "output_type": "stream",
     "text": [
      "Build model...\n",
      "_________________________________________________________________\n",
      "Layer (type)                 Output Shape              Param #   \n",
      "=================================================================\n",
      "dense_102 (Dense)            (None, 500)               150500    \n",
      "_________________________________________________________________\n",
      "dropout_65 (Dropout)         (None, 500)               0         \n",
      "_________________________________________________________________\n",
      "dense_103 (Dense)            (None, 300)               150300    \n",
      "_________________________________________________________________\n",
      "dropout_66 (Dropout)         (None, 300)               0         \n",
      "_________________________________________________________________\n",
      "dense_104 (Dense)            (None, 200)               60200     \n",
      "_________________________________________________________________\n",
      "dropout_67 (Dropout)         (None, 200)               0         \n",
      "_________________________________________________________________\n",
      "dense_105 (Dense)            (None, 100)               20100     \n",
      "_________________________________________________________________\n",
      "dropout_68 (Dropout)         (None, 100)               0         \n",
      "_________________________________________________________________\n",
      "dense_106 (Dense)            (None, 50)                5050      \n",
      "_________________________________________________________________\n",
      "dense_107 (Dense)            (None, 5)                 255       \n",
      "=================================================================\n",
      "Total params: 386,405\n",
      "Trainable params: 386,405\n",
      "Non-trainable params: 0\n",
      "_________________________________________________________________\n",
      "None\n",
      "Train on 1461 samples, validate on 163 samples\n",
      "Epoch 1/50\n",
      "1461/1461 [==============================] - 1s - loss: 1.5285 - mean_squared_error: 0.1539 - acc: 0.3231 - val_loss: 1.4472 - val_mean_squared_error: 0.1490 - val_acc: 0.3374\n",
      "Epoch 2/50\n",
      "1461/1461 [==============================] - 0s - loss: 1.4267 - mean_squared_error: 0.1471 - acc: 0.3498 - val_loss: 1.4303 - val_mean_squared_error: 0.1486 - val_acc: 0.3374\n",
      "Epoch 3/50\n",
      "1461/1461 [==============================] - 0s - loss: 1.4034 - mean_squared_error: 0.1462 - acc: 0.3429 - val_loss: 1.4188 - val_mean_squared_error: 0.1484 - val_acc: 0.3252\n",
      "Epoch 4/50\n",
      "1461/1461 [==============================] - 0s - loss: 1.3845 - mean_squared_error: 0.1447 - acc: 0.3559 - val_loss: 1.4099 - val_mean_squared_error: 0.1482 - val_acc: 0.3436\n",
      "Epoch 5/50\n",
      "1461/1461 [==============================] - 0s - loss: 1.3662 - mean_squared_error: 0.1436 - acc: 0.3593 - val_loss: 1.3928 - val_mean_squared_error: 0.1471 - val_acc: 0.3742\n",
      "Epoch 6/50\n",
      "1461/1461 [==============================] - 0s - loss: 1.3530 - mean_squared_error: 0.1428 - acc: 0.3689 - val_loss: 1.3813 - val_mean_squared_error: 0.1464 - val_acc: 0.3865\n",
      "Epoch 7/50\n",
      "1461/1461 [==============================] - 0s - loss: 1.3498 - mean_squared_error: 0.1428 - acc: 0.3676 - val_loss: 1.3717 - val_mean_squared_error: 0.1458 - val_acc: 0.3620\n",
      "Epoch 8/50\n",
      "1461/1461 [==============================] - 0s - loss: 1.3308 - mean_squared_error: 0.1412 - acc: 0.3669 - val_loss: 1.3640 - val_mean_squared_error: 0.1456 - val_acc: 0.3804\n",
      "Epoch 9/50\n",
      "1461/1461 [==============================] - 0s - loss: 1.3357 - mean_squared_error: 0.1418 - acc: 0.3751 - val_loss: 1.3583 - val_mean_squared_error: 0.1454 - val_acc: 0.3374\n",
      "Epoch 10/50\n",
      "1461/1461 [==============================] - 0s - loss: 1.3075 - mean_squared_error: 0.1392 - acc: 0.3826 - val_loss: 1.3467 - val_mean_squared_error: 0.1445 - val_acc: 0.3865\n",
      "Epoch 11/50\n",
      "1461/1461 [==============================] - 0s - loss: 1.3136 - mean_squared_error: 0.1399 - acc: 0.3895 - val_loss: 1.3426 - val_mean_squared_error: 0.1443 - val_acc: 0.3742\n",
      "Epoch 12/50\n",
      "1461/1461 [==============================] - 0s - loss: 1.3116 - mean_squared_error: 0.1402 - acc: 0.3943 - val_loss: 1.3285 - val_mean_squared_error: 0.1432 - val_acc: 0.3988\n",
      "Epoch 13/50\n",
      "1461/1461 [==============================] - 0s - loss: 1.3110 - mean_squared_error: 0.1402 - acc: 0.3799 - val_loss: 1.3178 - val_mean_squared_error: 0.1422 - val_acc: 0.3865\n",
      "Epoch 14/50\n",
      "1461/1461 [==============================] - 0s - loss: 1.2781 - mean_squared_error: 0.1371 - acc: 0.4278 - val_loss: 1.3152 - val_mean_squared_error: 0.1423 - val_acc: 0.3804\n",
      "Epoch 15/50\n",
      "1461/1461 [==============================] - 0s - loss: 1.2845 - mean_squared_error: 0.1377 - acc: 0.4031 - val_loss: 1.3047 - val_mean_squared_error: 0.1413 - val_acc: 0.3865\n",
      "Epoch 16/50\n",
      "1461/1461 [==============================] - 0s - loss: 1.2809 - mean_squared_error: 0.1382 - acc: 0.3915 - val_loss: 1.2934 - val_mean_squared_error: 0.1405 - val_acc: 0.4049\n",
      "Epoch 17/50\n",
      "1461/1461 [==============================] - 0s - loss: 1.2751 - mean_squared_error: 0.1373 - acc: 0.4120 - val_loss: 1.2897 - val_mean_squared_error: 0.1405 - val_acc: 0.3742\n",
      "Epoch 18/50\n",
      "1461/1461 [==============================] - 0s - loss: 1.2596 - mean_squared_error: 0.1357 - acc: 0.4162 - val_loss: 1.2812 - val_mean_squared_error: 0.1398 - val_acc: 0.4049\n",
      "Epoch 19/50\n",
      "1461/1461 [==============================] - 0s - loss: 1.2592 - mean_squared_error: 0.1359 - acc: 0.4100 - val_loss: 1.2876 - val_mean_squared_error: 0.1406 - val_acc: 0.3804\n",
      "Epoch 20/50\n",
      "1461/1461 [==============================] - 0s - loss: 1.2580 - mean_squared_error: 0.1361 - acc: 0.4052 - val_loss: 1.2711 - val_mean_squared_error: 0.1391 - val_acc: 0.3988\n",
      "Epoch 21/50\n",
      "1461/1461 [==============================] - 0s - loss: 1.2592 - mean_squared_error: 0.1362 - acc: 0.4237 - val_loss: 1.2540 - val_mean_squared_error: 0.1377 - val_acc: 0.4110\n",
      "Epoch 22/50\n",
      "1461/1461 [==============================] - 0s - loss: 1.2418 - mean_squared_error: 0.1349 - acc: 0.4264 - val_loss: 1.2428 - val_mean_squared_error: 0.1369 - val_acc: 0.4294\n",
      "Epoch 23/50\n",
      "1461/1461 [==============================] - 0s - loss: 1.2243 - mean_squared_error: 0.1330 - acc: 0.4319 - val_loss: 1.2444 - val_mean_squared_error: 0.1368 - val_acc: 0.3926\n",
      "Epoch 24/50\n",
      "1461/1461 [==============================] - 0s - loss: 1.2217 - mean_squared_error: 0.1327 - acc: 0.4415 - val_loss: 1.2205 - val_mean_squared_error: 0.1346 - val_acc: 0.4294\n",
      "Epoch 25/50\n",
      "1461/1461 [==============================] - 0s - loss: 1.2154 - mean_squared_error: 0.1326 - acc: 0.4264 - val_loss: 1.2323 - val_mean_squared_error: 0.1359 - val_acc: 0.4110\n",
      "Epoch 26/50\n",
      "1461/1461 [==============================] - 0s - loss: 1.2211 - mean_squared_error: 0.1332 - acc: 0.4278 - val_loss: 1.2279 - val_mean_squared_error: 0.1354 - val_acc: 0.3988\n",
      "Epoch 27/50\n",
      "1461/1461 [==============================] - 0s - loss: 1.2001 - mean_squared_error: 0.1310 - acc: 0.4394 - val_loss: 1.2156 - val_mean_squared_error: 0.1343 - val_acc: 0.3926\n",
      "Epoch 28/50\n",
      "1461/1461 [==============================] - 0s - loss: 1.1891 - mean_squared_error: 0.1292 - acc: 0.4661 - val_loss: 1.1979 - val_mean_squared_error: 0.1324 - val_acc: 0.4356\n",
      "Epoch 29/50\n",
      "1461/1461 [==============================] - 0s - loss: 1.1675 - mean_squared_error: 0.1280 - acc: 0.4689 - val_loss: 1.2064 - val_mean_squared_error: 0.1337 - val_acc: 0.4110\n",
      "Epoch 30/50\n",
      "1461/1461 [==============================] - 0s - loss: 1.1813 - mean_squared_error: 0.1291 - acc: 0.4600 - val_loss: 1.1889 - val_mean_squared_error: 0.1319 - val_acc: 0.4294\n",
      "Epoch 31/50\n",
      "1461/1461 [==============================] - 0s - loss: 1.1785 - mean_squared_error: 0.1296 - acc: 0.4476 - val_loss: 1.1926 - val_mean_squared_error: 0.1325 - val_acc: 0.4356\n",
      "Epoch 32/50\n",
      "1461/1461 [==============================] - 0s - loss: 1.1533 - mean_squared_error: 0.1266 - acc: 0.4750 - val_loss: 1.1950 - val_mean_squared_error: 0.1326 - val_acc: 0.4049\n",
      "Epoch 33/50\n",
      "1461/1461 [==============================] - 0s - loss: 1.1420 - mean_squared_error: 0.1256 - acc: 0.4860 - val_loss: 1.1835 - val_mean_squared_error: 0.1314 - val_acc: 0.3988\n",
      "Epoch 34/50\n",
      "1461/1461 [==============================] - 0s - loss: 1.1457 - mean_squared_error: 0.1264 - acc: 0.4750 - val_loss: 1.1601 - val_mean_squared_error: 0.1292 - val_acc: 0.4663\n",
      "Epoch 35/50\n",
      "1461/1461 [==============================] - 0s - loss: 1.1543 - mean_squared_error: 0.1274 - acc: 0.4730 - val_loss: 1.1725 - val_mean_squared_error: 0.1305 - val_acc: 0.4724\n",
      "Epoch 36/50\n",
      "1461/1461 [==============================] - 0s - loss: 1.1324 - mean_squared_error: 0.1259 - acc: 0.4682 - val_loss: 1.1551 - val_mean_squared_error: 0.1284 - val_acc: 0.4785\n",
      "Epoch 37/50\n",
      "1461/1461 [==============================] - 0s - loss: 1.1324 - mean_squared_error: 0.1256 - acc: 0.4661 - val_loss: 1.1513 - val_mean_squared_error: 0.1287 - val_acc: 0.4294\n",
      "Epoch 38/50\n",
      "1461/1461 [==============================] - 0s - loss: 1.1384 - mean_squared_error: 0.1268 - acc: 0.4606 - val_loss: 1.1403 - val_mean_squared_error: 0.1278 - val_acc: 0.4601\n",
      "Epoch 39/50\n",
      "1461/1461 [==============================] - 0s - loss: 1.1234 - mean_squared_error: 0.1250 - acc: 0.4812 - val_loss: 1.1364 - val_mean_squared_error: 0.1277 - val_acc: 0.4540\n",
      "Epoch 40/50\n",
      "1461/1461 [==============================] - 0s - loss: 1.1118 - mean_squared_error: 0.1237 - acc: 0.4894 - val_loss: 1.1593 - val_mean_squared_error: 0.1297 - val_acc: 0.4601\n",
      "Epoch 41/50\n",
      "1461/1461 [==============================] - 0s - loss: 1.1121 - mean_squared_error: 0.1238 - acc: 0.4771 - val_loss: 1.1449 - val_mean_squared_error: 0.1286 - val_acc: 0.4601\n",
      "Epoch 42/50\n",
      "1461/1461 [==============================] - 0s - loss: 1.1314 - mean_squared_error: 0.1261 - acc: 0.4784 - val_loss: 1.1179 - val_mean_squared_error: 0.1257 - val_acc: 0.4601\n",
      "Epoch 43/50\n",
      "1461/1461 [==============================] - 0s - loss: 1.1147 - mean_squared_error: 0.1246 - acc: 0.4716 - val_loss: 1.1239 - val_mean_squared_error: 0.1262 - val_acc: 0.4724\n",
      "Epoch 44/50\n",
      "1461/1461 [==============================] - 0s - loss: 1.0984 - mean_squared_error: 0.1226 - acc: 0.5038 - val_loss: 1.1200 - val_mean_squared_error: 0.1258 - val_acc: 0.4601\n",
      "Epoch 45/50\n",
      "1461/1461 [==============================] - 0s - loss: 1.0977 - mean_squared_error: 0.1227 - acc: 0.4976 - val_loss: 1.1232 - val_mean_squared_error: 0.1263 - val_acc: 0.4601\n",
      "Epoch 46/50\n",
      "1461/1461 [==============================] - 0s - loss: 1.0901 - mean_squared_error: 0.1219 - acc: 0.5017 - val_loss: 1.1245 - val_mean_squared_error: 0.1265 - val_acc: 0.4724\n",
      "Epoch 47/50\n",
      "1461/1461 [==============================] - 0s - loss: 1.1028 - mean_squared_error: 0.1238 - acc: 0.4887 - val_loss: 1.1114 - val_mean_squared_error: 0.1255 - val_acc: 0.4540\n",
      "Epoch 48/50\n",
      "1461/1461 [==============================] - 0s - loss: 1.0792 - mean_squared_error: 0.1210 - acc: 0.5031 - val_loss: 1.1101 - val_mean_squared_error: 0.1256 - val_acc: 0.4601\n",
      "Epoch 49/50\n",
      "1461/1461 [==============================] - 0s - loss: 1.1009 - mean_squared_error: 0.1240 - acc: 0.4702 - val_loss: 1.1101 - val_mean_squared_error: 0.1250 - val_acc: 0.4601\n",
      "Epoch 50/50\n",
      "1461/1461 [==============================] - 0s - loss: 1.0748 - mean_squared_error: 0.1209 - acc: 0.5051 - val_loss: 1.0816 - val_mean_squared_error: 0.1224 - val_acc: 0.4724\n"
     ]
    }
   ],
   "source": [
    "# define model\n",
    "print('Build model...')\n",
    "model = Sequential()\n",
    "model.add(Dense(500, activation='tanh', input_dim=300))\n",
    "model.add(Dropout(0.2))\n",
    "model.add(Dense(300, activation='tanh'))\n",
    "model.add(Dropout(0.1))\n",
    "model.add(Dense(200, activation='tanh'))\n",
    "model.add(Dropout(0.1))\n",
    "model.add(Dense(100, activation='relu'))\n",
    "model.add(Dropout(0.1))\n",
    "model.add(Dense(50, activation='relu'))\n",
    "model.add(Dense(len(set(labels.tolist())), activation='softmax'))\n",
    "print(model.summary())\n",
    "# compile network\n",
    "# Compile the model\n",
    "sgd = SGD(lr=0.0001, decay=1e-6, momentum=0.9, nesterov=True)\n",
    "model.compile(loss='categorical_crossentropy', optimizer=sgd , metrics=['mean_squared_error','accuracy'])\n",
    "# fit network\n",
    "history = model.fit(X_train, y_train, validation_split=0.1, batch_size=32, epochs=50, verbose=1)"
   ]
  },
  {
   "cell_type": "code",
   "execution_count": 191,
   "metadata": {},
   "outputs": [
    {
     "name": "stdout",
     "output_type": "stream",
     "text": [
      "\n",
      "Confusion matrix\n",
      " [[ 0  0  0  0  0]\n",
      " [ 3  9  8  0  0]\n",
      " [ 0 12 31 19  1]\n",
      " [ 0  1 26 46 24]\n",
      " [ 0  0  0  1  0]]\n",
      "\n",
      "             precision    recall  f1-score   support\n",
      "\n",
      "          0       0.00      0.00      0.00         0\n",
      "          1       0.41      0.45      0.43        20\n",
      "          2       0.48      0.49      0.48        63\n",
      "          3       0.70      0.47      0.56        97\n",
      "          4       0.00      0.00      0.00         1\n",
      "\n",
      "avg / total       0.58      0.48      0.52       181\n",
      "\n"
     ]
    }
   ],
   "source": [
    "predictions = np.argmax(model.predict(X_test), axis=1)\n",
    "print('\\nConfusion matrix\\n', confusion_matrix(predictions, y_test))\n",
    "print()\n",
    "print(classification_report(predictions, y_test))"
   ]
  },
  {
   "cell_type": "markdown",
   "metadata": {},
   "source": [
    "### 7. One-layer RNN (GRU) on word sequences using Glove word embeddings"
   ]
  },
  {
   "cell_type": "code",
   "execution_count": 192,
   "metadata": {},
   "outputs": [
    {
     "name": "stdout",
     "output_type": "stream",
     "text": [
      "Found 5052 unique tokens.\n"
     ]
    }
   ],
   "source": [
    "vocabularySize = 10000\n",
    "tokenizer = Tokenizer(num_words = vocabularySize, filters = '!\"#$%&()*+,-./:;<=>?@\\\\^_`{|}~\\t\\n')\n",
    "\n",
    "tokenizer.fit_on_texts(df_train[\"essay\"].tolist())\n",
    "\n",
    "word_index = tokenizer.word_index\n",
    "print('Found %s unique tokens.' % len(word_index))"
   ]
  },
  {
   "cell_type": "code",
   "execution_count": 193,
   "metadata": {},
   "outputs": [],
   "source": [
    "embedding_matrix = np.zeros((len(word_index)+1,300))\n",
    "for word, i in word_index.items():\n",
    "    embedding_vector = embeddings_index.get(word)\n",
    "    if embedding_vector is not None:\n",
    "        # words not found in embedding index will be all-zeros.\n",
    "        embedding_matrix[i] = embedding_vector"
   ]
  },
  {
   "cell_type": "code",
   "execution_count": 194,
   "metadata": {},
   "outputs": [
    {
     "name": "stdout",
     "output_type": "stream",
     "text": [
      "Maximum length of an essay is: 416\n"
     ]
    }
   ],
   "source": [
    "max_seq_length = max([len(s.split()) for s in df_train[\"essay\"].tolist()])\n",
    "print(\"Maximum length of an essay is:\", max_seq_length)"
   ]
  },
  {
   "cell_type": "code",
   "execution_count": 195,
   "metadata": {},
   "outputs": [],
   "source": [
    "def create_train_dataset(max_seq_length=max_seq_length):\n",
    "    sequences = tokenizer.texts_to_sequences(df_train[\"essay\"].tolist())\n",
    "    sequences = pad_sequences(sequences, maxlen=max_seq_length, padding='pre')\n",
    "    return sequences\n",
    "\n",
    "df_train = df_train.sample(frac=1).reset_index(drop=True)\n",
    "train = create_train_dataset(max_seq_length=max_seq_length)\n",
    "le = preprocessing.LabelEncoder()\n",
    "labels = le.fit_transform(df_train[\"domain1_score\"].values)"
   ]
  },
  {
   "cell_type": "code",
   "execution_count": 196,
   "metadata": {},
   "outputs": [
    {
     "name": "stdout",
     "output_type": "stream",
     "text": [
      "(1624, 416) (181, 416) (1624,) (181,)\n"
     ]
    }
   ],
   "source": [
    "#Create training and test set\n",
    "X_train, X_test, y_train, y_test = train_test_split(train, labels, test_size=0.1, random_state=42)\n",
    "print(X_train.shape, X_test.shape, y_train.shape, y_test.shape)"
   ]
  },
  {
   "cell_type": "code",
   "execution_count": 197,
   "metadata": {},
   "outputs": [
    {
     "data": {
      "text/plain": [
       "{0, 1, 2, 3, 4}"
      ]
     },
     "execution_count": 197,
     "metadata": {},
     "output_type": "execute_result"
    }
   ],
   "source": [
    "set(labels.tolist())"
   ]
  },
  {
   "cell_type": "code",
   "execution_count": 198,
   "metadata": {},
   "outputs": [],
   "source": [
    "from keras.utils import np_utils\n",
    "\n",
    "y_train = np_utils.to_categorical(y_train, len(set(labels.tolist())))"
   ]
  },
  {
   "cell_type": "code",
   "execution_count": 199,
   "metadata": {},
   "outputs": [
    {
     "name": "stdout",
     "output_type": "stream",
     "text": [
      "Build model...\n",
      "_________________________________________________________________\n",
      "Layer (type)                 Output Shape              Param #   \n",
      "=================================================================\n",
      "embedding_6 (Embedding)      (None, 416, 300)          1515900   \n",
      "_________________________________________________________________\n",
      "gru_4 (GRU)                  (None, 256)               427776    \n",
      "_________________________________________________________________\n",
      "dense_108 (Dense)            (None, 50)                12850     \n",
      "_________________________________________________________________\n",
      "dense_109 (Dense)            (None, 5)                 255       \n",
      "=================================================================\n",
      "Total params: 1,956,781\n",
      "Trainable params: 440,881\n",
      "Non-trainable params: 1,515,900\n",
      "_________________________________________________________________\n",
      "None\n",
      "Train on 1461 samples, validate on 163 samples\n",
      "Epoch 1/10\n",
      "1461/1461 [==============================] - 56s - loss: 1.5685 - mean_squared_error: 0.1567 - acc: 0.2902 - val_loss: 1.5491 - val_mean_squared_error: 0.1553 - val_acc: 0.3129\n",
      "Epoch 2/10\n",
      "1461/1461 [==============================] - 60s - loss: 1.5500 - mean_squared_error: 0.1552 - acc: 0.3210 - val_loss: 1.5295 - val_mean_squared_error: 0.1537 - val_acc: 0.3313\n",
      "Epoch 3/10\n",
      "1461/1461 [==============================] - 59s - loss: 1.5310 - mean_squared_error: 0.1537 - acc: 0.3450 - val_loss: 1.5126 - val_mean_squared_error: 0.1524 - val_acc: 0.3313\n",
      "Epoch 4/10\n",
      "1461/1461 [==============================] - 57s - loss: 1.5147 - mean_squared_error: 0.1524 - acc: 0.3518 - val_loss: 1.4974 - val_mean_squared_error: 0.1513 - val_acc: 0.3436\n",
      "Epoch 5/10\n",
      "1461/1461 [==============================] - 58s - loss: 1.5001 - mean_squared_error: 0.1513 - acc: 0.3566 - val_loss: 1.4851 - val_mean_squared_error: 0.1504 - val_acc: 0.3313\n",
      "Epoch 6/10\n",
      "1461/1461 [==============================] - 55s - loss: 1.4878 - mean_squared_error: 0.1504 - acc: 0.3580 - val_loss: 1.4742 - val_mean_squared_error: 0.1496 - val_acc: 0.3497\n",
      "Epoch 7/10\n",
      "1461/1461 [==============================] - 58s - loss: 1.4770 - mean_squared_error: 0.1496 - acc: 0.3580 - val_loss: 1.4650 - val_mean_squared_error: 0.1490 - val_acc: 0.3497\n",
      "Epoch 8/10\n",
      "1461/1461 [==============================] - 57s - loss: 1.4675 - mean_squared_error: 0.1489 - acc: 0.3539 - val_loss: 1.4571 - val_mean_squared_error: 0.1484 - val_acc: 0.3620\n",
      "Epoch 9/10\n",
      "1461/1461 [==============================] - 59s - loss: 1.4593 - mean_squared_error: 0.1483 - acc: 0.3504 - val_loss: 1.4504 - val_mean_squared_error: 0.1480 - val_acc: 0.3620\n",
      "Epoch 10/10\n",
      "1461/1461 [==============================] - 57s - loss: 1.4521 - mean_squared_error: 0.1478 - acc: 0.3498 - val_loss: 1.4446 - val_mean_squared_error: 0.1477 - val_acc: 0.3558\n"
     ]
    }
   ],
   "source": [
    "# define model\n",
    "print('Build model...')\n",
    "model = Sequential()\n",
    "model.add(Embedding(len(word_index) + 1, 300, weights=[embedding_matrix], input_length=max_seq_length, trainable=False))\n",
    "#model.add(Dropout(0.3))\n",
    "model.add(GRU(256))\n",
    "#model.add(Dropout(0.3))\n",
    "model.add(Dense(50, activation='relu'))\n",
    "model.add(Dense(len(set(labels.tolist())), activation='softmax'))\n",
    "print(model.summary())\n",
    "# compile network\n",
    "optimizer = SGD(lr=0.0001, decay=1e-6, momentum=0.9, nesterov=True)\n",
    "#optimizer = Adam(lr=0.01) #SGD(lr=0.01, decay=1e-6, momentum=0.9, nesterov=True)\n",
    "model.compile(loss='categorical_crossentropy', optimizer=optimizer, metrics=['mean_squared_error','accuracy'])\n",
    "# fit network\n",
    "history = model.fit(X_train, y_train, validation_split=0.1, batch_size=64, epochs=10, verbose=1)"
   ]
  },
  {
   "cell_type": "code",
   "execution_count": 200,
   "metadata": {},
   "outputs": [
    {
     "name": "stdout",
     "output_type": "stream",
     "text": [
      "\n",
      "Confusion matrix\n",
      " [[ 0  0  0  0  0]\n",
      " [ 0  0  0  0  0]\n",
      " [ 1 23 45 34 18]\n",
      " [ 3  8 15 20 12]\n",
      " [ 0  0  1  1  0]]\n",
      "\n",
      "             precision    recall  f1-score   support\n",
      "\n",
      "          0       0.00      0.00      0.00         0\n",
      "          1       0.00      0.00      0.00         0\n",
      "          2       0.74      0.37      0.49       121\n",
      "          3       0.36      0.34      0.35        58\n",
      "          4       0.00      0.00      0.00         2\n",
      "\n",
      "avg / total       0.61      0.36      0.44       181\n",
      "\n"
     ]
    }
   ],
   "source": [
    "predictions = np.argmax(model.predict(X_test), axis=1)\n",
    "print('\\nConfusion matrix\\n', confusion_matrix(predictions, y_test))\n",
    "print()\n",
    "print(classification_report(predictions, y_test))"
   ]
  },
  {
   "cell_type": "markdown",
   "metadata": {},
   "source": [
    "### 8. One layer BiLSTM"
   ]
  },
  {
   "cell_type": "code",
   "execution_count": 201,
   "metadata": {},
   "outputs": [
    {
     "name": "stdout",
     "output_type": "stream",
     "text": [
      "Build model...\n",
      "_________________________________________________________________\n",
      "Layer (type)                 Output Shape              Param #   \n",
      "=================================================================\n",
      "embedding_7 (Embedding)      (None, 416, 300)          1515900   \n",
      "_________________________________________________________________\n",
      "bidirectional_5 (Bidirection (None, 416, 200)          320800    \n",
      "_________________________________________________________________\n",
      "bidirectional_6 (Bidirection (None, 200)               240800    \n",
      "_________________________________________________________________\n",
      "dense_110 (Dense)            (None, 5)                 1005      \n",
      "=================================================================\n",
      "Total params: 2,078,505\n",
      "Trainable params: 562,605\n",
      "Non-trainable params: 1,515,900\n",
      "_________________________________________________________________\n",
      "None\n",
      "Train on 1461 samples, validate on 163 samples\n",
      "Epoch 1/10\n",
      "1461/1461 [==============================] - 96s - loss: 1.5905 - mean_squared_error: 0.1586 - acc: 0.2834 - val_loss: 1.5970 - val_mean_squared_error: 0.1590 - val_acc: 0.2638\n",
      "Epoch 2/10\n",
      "1461/1461 [==============================] - 91s - loss: 1.5782 - mean_squared_error: 0.1575 - acc: 0.3053 - val_loss: 1.5842 - val_mean_squared_error: 0.1580 - val_acc: 0.2699\n",
      "Epoch 3/10\n",
      "1461/1461 [==============================] - 89s - loss: 1.5653 - mean_squared_error: 0.1565 - acc: 0.3217 - val_loss: 1.5719 - val_mean_squared_error: 0.1570 - val_acc: 0.2270\n",
      "Epoch 4/10\n",
      "1461/1461 [==============================] - 89s - loss: 1.5530 - mean_squared_error: 0.1555 - acc: 0.3217 - val_loss: 1.5605 - val_mean_squared_error: 0.1560 - val_acc: 0.2515\n",
      "Epoch 5/10\n",
      "1461/1461 [==============================] - 89s - loss: 1.5418 - mean_squared_error: 0.1546 - acc: 0.3244 - val_loss: 1.5499 - val_mean_squared_error: 0.1552 - val_acc: 0.2393\n",
      "Epoch 6/10\n",
      "1461/1461 [==============================] - 89s - loss: 1.5312 - mean_squared_error: 0.1537 - acc: 0.3306 - val_loss: 1.5402 - val_mean_squared_error: 0.1544 - val_acc: 0.2577\n",
      "Epoch 7/10\n",
      "1461/1461 [==============================] - 89s - loss: 1.5215 - mean_squared_error: 0.1530 - acc: 0.3251 - val_loss: 1.5312 - val_mean_squared_error: 0.1537 - val_acc: 0.2699\n",
      "Epoch 8/10\n",
      "1461/1461 [==============================] - 103s - loss: 1.5124 - mean_squared_error: 0.1523 - acc: 0.3402 - val_loss: 1.5228 - val_mean_squared_error: 0.1531 - val_acc: 0.2945\n",
      "Epoch 9/10\n",
      "1461/1461 [==============================] - 92s - loss: 1.5040 - mean_squared_error: 0.1516 - acc: 0.3457 - val_loss: 1.5150 - val_mean_squared_error: 0.1525 - val_acc: 0.3313\n",
      "Epoch 10/10\n",
      "1461/1461 [==============================] - 89s - loss: 1.4961 - mean_squared_error: 0.1510 - acc: 0.3498 - val_loss: 1.5079 - val_mean_squared_error: 0.1520 - val_acc: 0.3252\n"
     ]
    }
   ],
   "source": [
    "# define model\n",
    "print('Build model...')\n",
    "model = Sequential()\n",
    "model.add(Embedding(len(word_index) + 1, 300, weights=[embedding_matrix], input_length=max_seq_length, trainable=False))\n",
    "model.add(Bidirectional(LSTM(100, return_sequences=True)))#, input_shape=(5, 10)))\n",
    "model.add(Bidirectional(LSTM(100)))\n",
    "model.add(Dense(len(set(labels.tolist())), activation='softmax'))\n",
    "print(model.summary())\n",
    "# compile network\n",
    "optimizer = SGD(lr=0.0001, decay=1e-6, momentum=0.9, nesterov=True)\n",
    "#optimizer = Adam(lr=0.01) #SGD(lr=0.01, decay=1e-6, momentum=0.9, nesterov=True)\n",
    "model.compile(loss='categorical_crossentropy', optimizer=optimizer, metrics=['mean_squared_error','accuracy'])\n",
    "# fit network\n",
    "history = model.fit(X_train, y_train, validation_split=0.1, batch_size=64, epochs=10, verbose=1)"
   ]
  },
  {
   "cell_type": "code",
   "execution_count": 147,
   "metadata": {},
   "outputs": [
    {
     "name": "stdout",
     "output_type": "stream",
     "text": [
      "\n",
      "Confusion matrix\n",
      " [[ 0  0  0  0  0  0]\n",
      " [ 0  0  0  0  0  0]\n",
      " [ 1  3 10  6  2  0]\n",
      " [ 2  5 71 74  5  1]\n",
      " [ 0  0  0  0  0  0]\n",
      " [ 0  0  0  0  0  0]]\n",
      "\n",
      "             precision    recall  f1-score   support\n",
      "\n",
      "          0       0.00      0.00      0.00         0\n",
      "          1       0.00      0.00      0.00         0\n",
      "          2       0.12      0.45      0.19        22\n",
      "          3       0.93      0.47      0.62       158\n",
      "          4       0.00      0.00      0.00         0\n",
      "          5       0.00      0.00      0.00         0\n",
      "\n",
      "avg / total       0.83      0.47      0.57       180\n",
      "\n"
     ]
    }
   ],
   "source": [
    "predictions = np.argmax(model.predict(X_test), axis=1)\n",
    "print('\\nConfusion matrix\\n', confusion_matrix(predictions, y_test))\n",
    "print()\n",
    "print(classification_report(predictions, y_test))"
   ]
  },
  {
   "cell_type": "code",
   "execution_count": null,
   "metadata": {},
   "outputs": [],
   "source": []
  }
 ],
 "metadata": {
  "kernelspec": {
   "display_name": "Python 3",
   "language": "python",
   "name": "python3"
  },
  "language_info": {
   "codemirror_mode": {
    "name": "ipython",
    "version": 3
   },
   "file_extension": ".py",
   "mimetype": "text/x-python",
   "name": "python",
   "nbconvert_exporter": "python",
   "pygments_lexer": "ipython3",
   "version": "3.6.1"
  }
 },
 "nbformat": 4,
 "nbformat_minor": 2
}
